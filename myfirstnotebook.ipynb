{
 "cells": [
  {
   "cell_type": "code",
   "execution_count": 5,
   "id": "718e8a71-5843-456a-a8cf-986cbf0873c7",
   "metadata": {},
   "outputs": [
    {
     "name": "stdout",
     "output_type": "stream",
     "text": [
      "hello world!\n"
     ]
    }
   ],
   "source": [
    "print(\"hello world!\")"
   ]
  },
  {
   "cell_type": "markdown",
   "id": "25eb91b6-63e8-4071-845e-1eb47796b996",
   "metadata": {},
   "source": [
    "# This is an h1 tag"
   ]
  },
  {
   "cell_type": "markdown",
   "id": "e38763f0-3183-4d4d-8142-3bb6dcc8fa6c",
   "metadata": {},
   "source": [
    "* Item 1\n",
    "* Item 2\n",
    "    * Subitem 21\n",
    "    * Subitem 22"
   ]
  },
  {
   "cell_type": "markdown",
   "id": "bf66a1ce-f3b6-468d-b7c8-c99f5281ae9e",
   "metadata": {},
   "source": [
    "[GitHub](http://github.com)"
   ]
  },
  {
   "cell_type": "code",
   "execution_count": null,
   "id": "70ad02ba-570c-43aa-ae70-b4c43c58121b",
   "metadata": {},
   "outputs": [],
   "source": []
  }
 ],
 "metadata": {
  "kernelspec": {
   "display_name": "Python 3 (ipykernel)",
   "language": "python",
   "name": "python3"
  },
  "language_info": {
   "codemirror_mode": {
    "name": "ipython",
    "version": 3
   },
   "file_extension": ".py",
   "mimetype": "text/x-python",
   "name": "python",
   "nbconvert_exporter": "python",
   "pygments_lexer": "ipython3",
   "version": "3.7.3"
  }
 },
 "nbformat": 4,
 "nbformat_minor": 5
}
